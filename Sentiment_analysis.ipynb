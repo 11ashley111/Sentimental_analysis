{
 "cells": [
  {
   "cell_type": "markdown",
   "id": "c48f7aae-5b0b-496d-b937-8f3f5983f421",
   "metadata": {},
   "source": [
    "# Testing a Sentiment in Covid-twitter data"
   ]
  },
  {
   "cell_type": "code",
   "execution_count": 1,
   "id": "ffe351d9-2311-4532-84b8-2d70ca21abfc",
   "metadata": {},
   "outputs": [
    {
     "name": "stdout",
     "output_type": "stream",
     "text": [
      "Requirement already satisfied: openpyxl in /opt/anaconda3/lib/python3.12/site-packages (3.1.2)\n",
      "Requirement already satisfied: et-xmlfile in /opt/anaconda3/lib/python3.12/site-packages (from openpyxl) (1.1.0)\n"
     ]
    }
   ],
   "source": [
    "!pip install openpyxl"
   ]
  },
  {
   "cell_type": "code",
   "execution_count": 2,
   "id": "e0deec7c-5b00-4c0c-8161-a0179ca388f3",
   "metadata": {},
   "outputs": [
    {
     "name": "stdout",
     "output_type": "stream",
     "text": [
      "Requirement already satisfied: xlrd in /opt/anaconda3/lib/python3.12/site-packages (2.0.1)\n"
     ]
    }
   ],
   "source": [
    "! pip install xlrd"
   ]
  },
  {
   "cell_type": "code",
   "execution_count": 3,
   "id": "43cfa3e0-23dd-4fbf-9008-d87de37311cb",
   "metadata": {},
   "outputs": [],
   "source": [
    "import pandas as pd"
   ]
  },
  {
   "cell_type": "code",
   "execution_count": 108,
   "id": "c66f9c5b-3a8d-45a6-886e-83f91d804548",
   "metadata": {},
   "outputs": [
    {
     "name": "stdout",
     "output_type": "stream",
     "text": [
      "Failed to load as Excel: Excel file format cannot be determined, you must specify an engine manually.\n",
      "Loaded file as a CSV file\n",
      "   UserName  ScreenName             Location     TweetAt  \\\n",
      "0         1       44953                  NYC  02-03-2020   \n",
      "1         2       44954          Seattle, WA  02-03-2020   \n",
      "2         3       44955                  NaN  02-03-2020   \n",
      "3         4       44956          Chicagoland  02-03-2020   \n",
      "4         5       44957  Melbourne, Victoria  03-03-2020   \n",
      "\n",
      "                                       OriginalTweet           Sentiment  \n",
      "0  TRENDING: New Yorkers encounter empty supermar...  Extremely Negative  \n",
      "1  When I couldn't find hand sanitizer at Fred Me...            Positive  \n",
      "2  Find out how you can protect yourself and love...  Extremely Positive  \n",
      "3  #Panic buying hits #NewYork City as anxious sh...            Negative  \n",
      "4  #toiletpaper #dunnypaper #coronavirus #coronav...             Neutral  \n"
     ]
    }
   ],
   "source": [
    "import pandas as pd\n",
    "\n",
    "file_path = 'Corona_NLP_test.csv.xls'\n",
    "\n",
    "try:\n",
    "    # Attempt to read as Excel file\n",
    "    df = pd.read_excel(file_path)\n",
    "    print(\"Loaded file as an Excel file\")\n",
    "except Exception as e:\n",
    "    print(f\"Failed to load as Excel: {e}\")\n",
    "    try:\n",
    "        # Attempt to read as CSV file\n",
    "        df = pd.read_csv(file_path)\n",
    "        print(\"Loaded file as a CSV file\")\n",
    "    except Exception as e:\n",
    "        print(f\"Failed to load as CSV: {e}\")\n",
    "        df = None\n",
    "\n",
    "# If successful, display the first few rows\n",
    "if df is not None:\n",
    "    print(df.head())\n"
   ]
  },
  {
   "cell_type": "code",
   "execution_count": 5,
   "id": "974f8ac1-313f-4f99-b070-b0181a9e3fa2",
   "metadata": {},
   "outputs": [
    {
     "data": {
      "text/html": [
       "<div>\n",
       "<style scoped>\n",
       "    .dataframe tbody tr th:only-of-type {\n",
       "        vertical-align: middle;\n",
       "    }\n",
       "\n",
       "    .dataframe tbody tr th {\n",
       "        vertical-align: top;\n",
       "    }\n",
       "\n",
       "    .dataframe thead th {\n",
       "        text-align: right;\n",
       "    }\n",
       "</style>\n",
       "<table border=\"1\" class=\"dataframe\">\n",
       "  <thead>\n",
       "    <tr style=\"text-align: right;\">\n",
       "      <th></th>\n",
       "      <th>UserName</th>\n",
       "      <th>ScreenName</th>\n",
       "      <th>Location</th>\n",
       "      <th>TweetAt</th>\n",
       "      <th>OriginalTweet</th>\n",
       "      <th>Sentiment</th>\n",
       "    </tr>\n",
       "  </thead>\n",
       "  <tbody>\n",
       "    <tr>\n",
       "      <th>0</th>\n",
       "      <td>1</td>\n",
       "      <td>44953</td>\n",
       "      <td>NYC</td>\n",
       "      <td>02-03-2020</td>\n",
       "      <td>TRENDING: New Yorkers encounter empty supermar...</td>\n",
       "      <td>Extremely Negative</td>\n",
       "    </tr>\n",
       "    <tr>\n",
       "      <th>1</th>\n",
       "      <td>2</td>\n",
       "      <td>44954</td>\n",
       "      <td>Seattle, WA</td>\n",
       "      <td>02-03-2020</td>\n",
       "      <td>When I couldn't find hand sanitizer at Fred Me...</td>\n",
       "      <td>Positive</td>\n",
       "    </tr>\n",
       "    <tr>\n",
       "      <th>2</th>\n",
       "      <td>3</td>\n",
       "      <td>44955</td>\n",
       "      <td>NaN</td>\n",
       "      <td>02-03-2020</td>\n",
       "      <td>Find out how you can protect yourself and love...</td>\n",
       "      <td>Extremely Positive</td>\n",
       "    </tr>\n",
       "    <tr>\n",
       "      <th>3</th>\n",
       "      <td>4</td>\n",
       "      <td>44956</td>\n",
       "      <td>Chicagoland</td>\n",
       "      <td>02-03-2020</td>\n",
       "      <td>#Panic buying hits #NewYork City as anxious sh...</td>\n",
       "      <td>Negative</td>\n",
       "    </tr>\n",
       "    <tr>\n",
       "      <th>4</th>\n",
       "      <td>5</td>\n",
       "      <td>44957</td>\n",
       "      <td>Melbourne, Victoria</td>\n",
       "      <td>03-03-2020</td>\n",
       "      <td>#toiletpaper #dunnypaper #coronavirus #coronav...</td>\n",
       "      <td>Neutral</td>\n",
       "    </tr>\n",
       "  </tbody>\n",
       "</table>\n",
       "</div>"
      ],
      "text/plain": [
       "   UserName  ScreenName             Location     TweetAt  \\\n",
       "0         1       44953                  NYC  02-03-2020   \n",
       "1         2       44954          Seattle, WA  02-03-2020   \n",
       "2         3       44955                  NaN  02-03-2020   \n",
       "3         4       44956          Chicagoland  02-03-2020   \n",
       "4         5       44957  Melbourne, Victoria  03-03-2020   \n",
       "\n",
       "                                       OriginalTweet           Sentiment  \n",
       "0  TRENDING: New Yorkers encounter empty supermar...  Extremely Negative  \n",
       "1  When I couldn't find hand sanitizer at Fred Me...            Positive  \n",
       "2  Find out how you can protect yourself and love...  Extremely Positive  \n",
       "3  #Panic buying hits #NewYork City as anxious sh...            Negative  \n",
       "4  #toiletpaper #dunnypaper #coronavirus #coronav...             Neutral  "
      ]
     },
     "execution_count": 5,
     "metadata": {},
     "output_type": "execute_result"
    }
   ],
   "source": [
    "df.head()"
   ]
  },
  {
   "cell_type": "code",
   "execution_count": 6,
   "id": "25d53364-ffe3-496e-b698-480a4e4bb5a6",
   "metadata": {},
   "outputs": [
    {
     "data": {
      "text/html": [
       "<div>\n",
       "<style scoped>\n",
       "    .dataframe tbody tr th:only-of-type {\n",
       "        vertical-align: middle;\n",
       "    }\n",
       "\n",
       "    .dataframe tbody tr th {\n",
       "        vertical-align: top;\n",
       "    }\n",
       "\n",
       "    .dataframe thead th {\n",
       "        text-align: right;\n",
       "    }\n",
       "</style>\n",
       "<table border=\"1\" class=\"dataframe\">\n",
       "  <thead>\n",
       "    <tr style=\"text-align: right;\">\n",
       "      <th></th>\n",
       "      <th>UserName</th>\n",
       "      <th>ScreenName</th>\n",
       "      <th>Location</th>\n",
       "      <th>TweetAt</th>\n",
       "      <th>OriginalTweet</th>\n",
       "      <th>Sentiment</th>\n",
       "    </tr>\n",
       "  </thead>\n",
       "  <tbody>\n",
       "    <tr>\n",
       "      <th>3793</th>\n",
       "      <td>3794</td>\n",
       "      <td>48746</td>\n",
       "      <td>Israel ??</td>\n",
       "      <td>16-03-2020</td>\n",
       "      <td>Meanwhile In A Supermarket in Israel -- People...</td>\n",
       "      <td>Positive</td>\n",
       "    </tr>\n",
       "    <tr>\n",
       "      <th>3794</th>\n",
       "      <td>3795</td>\n",
       "      <td>48747</td>\n",
       "      <td>Farmington, NM</td>\n",
       "      <td>16-03-2020</td>\n",
       "      <td>Did you panic buy a lot of non-perishable item...</td>\n",
       "      <td>Negative</td>\n",
       "    </tr>\n",
       "    <tr>\n",
       "      <th>3795</th>\n",
       "      <td>3796</td>\n",
       "      <td>48748</td>\n",
       "      <td>Haverford, PA</td>\n",
       "      <td>16-03-2020</td>\n",
       "      <td>Asst Prof of Economics @cconces was on @NBCPhi...</td>\n",
       "      <td>Neutral</td>\n",
       "    </tr>\n",
       "    <tr>\n",
       "      <th>3796</th>\n",
       "      <td>3797</td>\n",
       "      <td>48749</td>\n",
       "      <td>NaN</td>\n",
       "      <td>16-03-2020</td>\n",
       "      <td>Gov need to do somethings instead of biar je r...</td>\n",
       "      <td>Extremely Negative</td>\n",
       "    </tr>\n",
       "    <tr>\n",
       "      <th>3797</th>\n",
       "      <td>3798</td>\n",
       "      <td>48750</td>\n",
       "      <td>Arlington, Virginia</td>\n",
       "      <td>16-03-2020</td>\n",
       "      <td>I and @ForestandPaper members are committed to...</td>\n",
       "      <td>Extremely Positive</td>\n",
       "    </tr>\n",
       "  </tbody>\n",
       "</table>\n",
       "</div>"
      ],
      "text/plain": [
       "      UserName  ScreenName             Location     TweetAt  \\\n",
       "3793      3794       48746            Israel ??  16-03-2020   \n",
       "3794      3795       48747       Farmington, NM  16-03-2020   \n",
       "3795      3796       48748        Haverford, PA  16-03-2020   \n",
       "3796      3797       48749                  NaN  16-03-2020   \n",
       "3797      3798       48750  Arlington, Virginia  16-03-2020   \n",
       "\n",
       "                                          OriginalTweet           Sentiment  \n",
       "3793  Meanwhile In A Supermarket in Israel -- People...            Positive  \n",
       "3794  Did you panic buy a lot of non-perishable item...            Negative  \n",
       "3795  Asst Prof of Economics @cconces was on @NBCPhi...             Neutral  \n",
       "3796  Gov need to do somethings instead of biar je r...  Extremely Negative  \n",
       "3797  I and @ForestandPaper members are committed to...  Extremely Positive  "
      ]
     },
     "execution_count": 6,
     "metadata": {},
     "output_type": "execute_result"
    }
   ],
   "source": [
    "df.tail()"
   ]
  },
  {
   "cell_type": "code",
   "execution_count": 7,
   "id": "980d6b39-ed5c-4a62-ac23-3c31c6c89a68",
   "metadata": {
    "scrolled": true
   },
   "outputs": [
    {
     "data": {
      "text/plain": [
       "array(['Extremely Negative', 'Positive', 'Extremely Positive', 'Negative',\n",
       "       'Neutral'], dtype=object)"
      ]
     },
     "execution_count": 7,
     "metadata": {},
     "output_type": "execute_result"
    }
   ],
   "source": [
    "df['Sentiment'].unique()"
   ]
  },
  {
   "cell_type": "code",
   "execution_count": 8,
   "id": "847ba8fa-1b2f-4a6a-9df2-59e53dfc2608",
   "metadata": {},
   "outputs": [
    {
     "data": {
      "text/plain": [
       "Sentiment\n",
       "Negative              1041\n",
       "Positive               947\n",
       "Neutral                619\n",
       "Extremely Positive     599\n",
       "Extremely Negative     592\n",
       "Name: count, dtype: int64"
      ]
     },
     "execution_count": 8,
     "metadata": {},
     "output_type": "execute_result"
    }
   ],
   "source": [
    "df['Sentiment'].value_counts()"
   ]
  },
  {
   "cell_type": "code",
   "execution_count": 9,
   "id": "52fd9215-efe6-4f17-bf95-dbaa89335cff",
   "metadata": {},
   "outputs": [
    {
     "data": {
      "image/png": "[encoded data removed]",
      "text/plain": [
       "<Figure size 800x800 with 1 Axes>"
      ]
     },
     "metadata": {},
     "output_type": "display_data"
    }
   ],
   "source": [
    "import matplotlib.pyplot as plt\n",
    "\n",
    "\n",
    "# Count the number of occurrences of each sentiment\n",
    "sentiment_counts = df['Sentiment'].value_counts()\n",
    "\n",
    "# Plot the pie chart\n",
    "plt.figure(figsize=(8, 8))\n",
    "plt.pie(sentiment_counts, labels=sentiment_counts.index, autopct='%1.1f%%', startangle=140, colors=['#66b3ff','#ff9999','#99ff99','#ffcc99','#c2c2f0'])\n",
    "\n",
    "# Add a title\n",
    "plt.title('Sentiment Distribution')\n",
    "\n",
    "# Show the plot\n",
    "plt.show()\n"
   ]
  },
  {
   "cell_type": "markdown",
   "id": "43e2b358-838e-4147-ac99-e439989f82ad",
   "metadata": {},
   "source": [
    "### train test split"
   ]
  },
  {
   "cell_type": "code",
   "execution_count": 120,
   "id": "b06a605a-dddc-41b7-b840-908c4c570fd1",
   "metadata": {},
   "outputs": [
    {
     "name": "stdout",
     "output_type": "stream",
     "text": [
      "Size of training dataset: 3036\n",
      "Size of testing dataset: 762\n",
      "\u001b[91mExtremely Negative example: We're at a critical time for the containment of COVID-19.\n",
      "\n",
      "As a necessary precaution, The Stop will be shifting our resources away from community programming and towards emergency food access services starting Monday, March 16.  https://t.co/rM191zyAfX\u001b[0m\n",
      "\n",
      "\u001b[91mNegative example: Supermarket Armageddon. Seriously, guys you need to calm the fuck down #Covid_19 #coronavirusireland\u001b[0m\n",
      "\n",
      "\u001b[93mNeutral example: #ITV #Vera opening scene a supermarket full of goods.....How long before we see that again? #Covid_19\u001b[0m\n",
      "\n",
      "\u001b[92mPositive example: @Disney What would it take for my family to pay movie ticket prices and watch this at home to avoid the #Covid_19 ? Happy to pay the $$$s.\u001b[0m\n",
      "\n",
      "\u001b[92mExtremely Positive example: Thank your healthcare workers,EMS, firefighters, police, janitors, grocery store staff every chance you can. While you can work from home with your hoards of toilet paper, masks, &amp;Clorox wipes they cannot. Theyre going to be there if/when you need help  #Covid_19 #washyourhands\u001b[0m\n"
     ]
    }
   ],
   "source": [
    "import random\n",
    "from sklearn.model_selection import train_test_split\n",
    "\n",
    "# Separate tweets by sentiment\n",
    "extremely_negative_tweets = list(df[df['Sentiment'] == 'Extremely Negative']['OriginalTweet'].astype(str))\n",
    "negative_tweets = list(df[df['Sentiment'] == 'Negative']['OriginalTweet'].astype(str))\n",
    "neutral_tweets = list(df[df['Sentiment'] == 'Neutral']['OriginalTweet'].astype(str))\n",
    "positive_tweets = list(df[df['Sentiment'] == 'Positive']['OriginalTweet'].astype(str))\n",
    "extremely_positive_tweets = list(df[df['Sentiment'] == 'Extremely Positive']['OriginalTweet'].astype(str))\n",
    "\n",
    "'''\n",
    "# Make lists equal in length (if needed)\n",
    "max_len = min(len(extremely_negative_tweets), len(negative_tweets), len(neutral_tweets), len(positive_tweets), len(extremely_positive_tweets))\n",
    "\n",
    "extremely_negative_tweets = extremely_negative_tweets[:max_len]\n",
    "negative_tweets = negative_tweets[:max_len]\n",
    "neutral_tweets = neutral_tweets[:max_len]\n",
    "positive_tweets = positive_tweets[:max_len]\n",
    "extremely_positive_tweets = extremely_positive_tweets[:max_len]\n",
    "\n",
    "# Combine all tweets into one dataset\n",
    "all_train_tweets = (extremely_negative_tweets +\n",
    "                    negative_tweets +\n",
    "                    neutral_tweets +\n",
    "                    positive_tweets +\n",
    "                    extremely_positive_tweets)\n",
    "\n",
    " '''                   \n",
    "\n",
    "# Splitting into training and testing sets (80/20 split)\n",
    "ext_neg_train, ext_neg_test = train_test_split(extremely_negative_tweets, test_size=0.2, random_state=42)\n",
    "neg_train, neg_test = train_test_split(negative_tweets, test_size=0.2, random_state=42)\n",
    "neutral_train, neutral_test = train_test_split(neutral_tweets, test_size=0.2, random_state=42)\n",
    "pos_train, pos_test = train_test_split(positive_tweets, test_size=0.2, random_state=42)\n",
    "ext_pos_train, ext_pos_test = train_test_split(extremely_positive_tweets, test_size=0.2, random_state=42)\n",
    "\n",
    "# Print sizes of the training and testing datasets\n",
    "print(f\"Size of training dataset: {len(ext_neg_train) + len(neg_train) + len(neutral_train) + len(pos_train) + len(ext_pos_train)}\")\n",
    "print(f\"Size of testing dataset: {len(ext_neg_test) + len(neg_test) + len(neutral_test) + len(pos_test) + len(ext_pos_test)}\")\n",
    "\n",
    "# Randomly print a tweet from each category with color formatting\n",
    "print('\\033[91m' + \"Extremely Negative example: \" + ext_neg_train[random.randint(0, len(ext_neg_train) - 1)] + '\\033[0m'\"\\n\")\n",
    "\n",
    "print('\\033[91m' + \"Negative example: \" + neg_train[random.randint(0, len(neg_train) - 1)] + '\\033[0m'\"\\n\")\n",
    "\n",
    "print('\\033[93m' + \"Neutral example: \" + neutral_train[random.randint(0, len(neutral_train) - 1)] + '\\033[0m'\"\\n\")\n",
    "\n",
    "print('\\033[92m' + \"Positive example: \" + pos_train[random.randint(0, len(pos_train) - 1)] + '\\033[0m'\"\\n\")\n",
    "\n",
    "print('\\033[92m' + \"Extremely Positive example: \" + ext_pos_train[random.randint(0, len(ext_pos_train) - 1)] + '\\033[0m')\n"
   ]
  },
  {
   "cell_type": "markdown",
   "id": "4d59540c-8b70-4621-94d7-fd9b652415fa",
   "metadata": {},
   "source": [
    "### Text Preprocessing"
   ]
  },
  {
   "cell_type": "code",
   "execution_count": 17,
   "id": "d7fcda6e-f7b3-4083-89f3-a3f443eb4ad8",
   "metadata": {},
   "outputs": [
    {
     "name": "stderr",
     "output_type": "stream",
     "text": [
      "[nltk_data] Downloading package stopwords to\n",
      "[nltk_data]     /Users/ashutoshraghuwanshi/nltk_data...\n",
      "[nltk_data]   Package stopwords is already up-to-date!\n"
     ]
    },
    {
     "data": {
      "text/plain": [
       "True"
      ]
     },
     "execution_count": 17,
     "metadata": {},
     "output_type": "execute_result"
    }
   ],
   "source": [
    "import nltk\n",
    "\n",
    "# Download the stopwords corpus\n",
    "nltk.download('stopwords')\n"
   ]
  },
  {
   "cell_type": "code",
   "execution_count": 19,
   "id": "de9be061-7fa4-4f26-83c8-412fd23868e2",
   "metadata": {},
   "outputs": [],
   "source": [
    "import re\n",
    "import string\n",
    "from nltk.corpus import stopwords\n",
    "from nltk.tokenize import TweetTokenizer\n",
    "from nltk.stem import PorterStemmer\n",
    "\n",
    "def process_tweet(tweet):\n",
    "    stemmer = PorterStemmer()\n",
    "    stopwords_english = stopwords.words('english')\n",
    "    \n",
    "    # Remove stock market tickers like $GE\n",
    "    tweet = re.sub(r'\\$\\w*', '', tweet)\n",
    "    \n",
    "    # Remove old style retweet text \"RT\"\n",
    "    tweet = re.sub(r'^RT[\\s]+', '', tweet)\n",
    "    \n",
    "    # Remove hyperlinks\n",
    "    tweet = re.sub(r'https?://[^\\s\\n\\r]+', '', tweet)\n",
    "    \n",
    "    # Remove hashtags (only the hash sign #)\n",
    "    tweet = re.sub(r'#', '', tweet)\n",
    "    \n",
    "    # Tokenize tweets\n",
    "    tokenizer = TweetTokenizer(preserve_case=False, strip_handles=True, reduce_len=True)\n",
    "    tweet_tokens = tokenizer.tokenize(tweet)\n",
    "    \n",
    "    tweets_clean = []\n",
    "    for word in tweet_tokens:\n",
    "        if word not in stopwords_english and word not in string.punctuation:\n",
    "            # Stem the word\n",
    "            stem_word = stemmer.stem(word)\n",
    "            tweets_clean.append(stem_word)\n",
    "    \n",
    "    return tweets_clean\n"
   ]
  },
  {
   "cell_type": "code",
   "execution_count": 21,
   "id": "bda600e5-af7e-4b49-a5f0-95d66c757f80",
   "metadata": {},
   "outputs": [
    {
     "name": "stdout",
     "output_type": "stream",
     "text": [
      "\u001b[92m\n",
      "Original tweet:\n",
      "@7NewsSydney @ScottMorrisonMP Some Factors have bought on the recession 1)Ignoring per-capita recession, 2)wage growth stagnant 3)Consumer debt levels are through the roof 4) casualized work! These changes in the economy are driven by government not #co\n",
      "\u001b[94m\n",
      "Preprocessed tweet:\n",
      "['factor', 'bought', 'recess', '1', 'ignor', 'per-capita', 'recess', '\\x92', '2', 'wage', 'growth', 'stagnant', '3', 'consum', 'debt', 'level', 'roof', '4', 'casual', 'work', 'chang', 'economi', 'driven', 'govern', 'co']\n",
      "\u001b[0m\n"
     ]
    }
   ],
   "source": [
    "# Assuming all_positive_tweets is a list of tweets labeled as positive\n",
    "tweet = extremely_negative_tweets[12]\n",
    "\n",
    "# Print the original tweet in green\n",
    "print('\\033[92m')  # Green text color\n",
    "print(\"Original tweet:\")\n",
    "print(tweet)\n",
    "\n",
    "# Preprocess the tweet\n",
    "tweets_stem = process_tweet(tweet)\n",
    "\n",
    "# Print the preprocessed tweet in blue\n",
    "print('\\033[94m')  # Blue text color\n",
    "print(\"Preprocessed tweet:\")\n",
    "print(tweets_stem)\n",
    "\n",
    "# Reset the terminal color to default\n",
    "print('\\033[0m')\n"
   ]
  },
  {
   "cell_type": "code",
   "execution_count": 23,
   "id": "9896642b-31eb-4738-8d41-b418daa97b16",
   "metadata": {},
   "outputs": [],
   "source": [
    "import numpy as np\n",
    "from collections import defaultdict\n",
    "\n",
    "def build_freqs(tweets, ys):\n",
    "    \"\"\"\n",
    "    Build a frequency dictionary for each (word, sentiment) pair.\n",
    "    \n",
    "    Args:\n",
    "    tweets -- a list of tweets\n",
    "    ys -- an m x 1 array with the sentiment label of each tweet (either 0 or 1)\n",
    "    \n",
    "    Returns:\n",
    "    freqs -- a dictionary mapping each (word, sentiment) pair (key) to its frequency (value)\n",
    "    \"\"\"\n",
    "    \n",
    "    # Convert np array to list\n",
    "    yslist = np.squeeze(ys).tolist()\n",
    "    \n",
    "    # Initialize an empty dictionary\n",
    "    freqs = defaultdict(int)\n",
    "    \n",
    "    # Loop over each tweet and its corresponding sentiment\n",
    "    for y, tweet in zip(yslist, tweets):\n",
    "        for word in process_tweet(tweet):\n",
    "            pair = (word, y)\n",
    "            freqs[pair] += 1\n",
    "    \n",
    "    return freqs\n"
   ]
  },
  {
   "cell_type": "code",
   "execution_count": 25,
   "id": "882aafdc-8afc-40c1-a924-447f69e6bbda",
   "metadata": {},
   "outputs": [
    {
     "name": "stdout",
     "output_type": "stream",
     "text": [
      "Number of training tweets: 3036\n",
      "Shape of labels array: (3036,)\n"
     ]
    }
   ],
   "source": [
    "import numpy as np\n",
    "\n",
    "# Combine all the training tweets\n",
    "training_tweets = ext_neg_train + neg_train + neutral_train + pos_train + ext_pos_train\n",
    "\n",
    "# Create labels for each sentiment category\n",
    "labels = np.concatenate((\n",
    "    np.full(len(ext_neg_train), 0),  # Label 0 for 'Extremely Negative'\n",
    "    np.full(len(neg_train), 1),      # Label 1 for 'Negative'\n",
    "    np.full(len(neutral_train), 2),  # Label 2 for 'Neutral'\n",
    "    np.full(len(pos_train), 3),      # Label 3 for 'Positive'\n",
    "    np.full(len(ext_pos_train), 4)   # Label 4 for 'Extremely Positive'\n",
    "))\n",
    "\n",
    "# Optional: Convert labels to a specific dtype if needed (e.g., integer)\n",
    "labels = labels.astype(int)\n",
    "\n",
    "# Checking the shapes to ensure correctness\n",
    "print(f\"Number of training tweets: {len(training_tweets)}\")\n",
    "print(f\"Shape of labels array: {labels.shape}\")\n"
   ]
  },
  {
   "cell_type": "code",
   "execution_count": 27,
   "id": "c0cd93ef-f398-4efd-93e0-3ff068998a66",
   "metadata": {},
   "outputs": [
    {
     "name": "stdout",
     "output_type": "stream",
     "text": [
      "type(freqs) = <class 'collections.defaultdict'>\n",
      "len(freqs) = 14847\n"
     ]
    }
   ],
   "source": [
    "# Assuming you have defined `all_train_tweets` and `labels` as shown earlier\n",
    "# Now build the frequency dictionary\n",
    "freqs = build_freqs(training_tweets, labels)\n",
    "\n",
    "# Check the data type of `freqs`\n",
    "print(f'type(freqs) = {type(freqs)}')\n",
    "\n",
    "# Check the length of the frequency dictionary\n",
    "print(f'len(freqs) = {len(freqs)}')\n"
   ]
  },
  {
   "cell_type": "code",
   "execution_count": 122,
   "id": "26e8f55e-bf7b-4418-8e0b-8d9b0f4e999d",
   "metadata": {},
   "outputs": [],
   "source": [
    "#### example by taking random words"
   ]
  },
  {
   "cell_type": "code",
   "execution_count": 124,
   "id": "e63a6285-ef87-4472-8f62-5a4791561158",
   "metadata": {},
   "outputs": [
    {
     "name": "stdout",
     "output_type": "stream",
     "text": [
      "Word Count Report:\n",
      "Word                Extremely Negative  Negative  Neutral   Positive  Extremely Positive  \n",
      "void                0                   0         0         1         0                   \n",
      "commun              7                   11        0         15        13                  \n",
      "spirit              0                   1         0         1         4                   \n",
      "stop                52                  28        2         14        7                   \n",
      "merri               0                   0         0         0         0                   \n",
      "nice                2                   5         0         6         9                   \n",
      "good                9                   28        11        49        44                  \n",
      "bad                 18                  9         0         1         3                   \n",
      "sad                 6                   4         0         0         0                   \n",
      "mad                 9                   8         2         2         4                   \n",
      "best                2                   3         0         7         28                  \n",
      "pretti              0                   4         0         6         5                   \n",
      "song                0                   0         0         2         0                   \n",
      "idea                4                   7         0         6         4                   \n",
      "power               0                   0         1         5         5                   \n",
      "play                2                   1         1         8         5                   \n"
     ]
    }
   ],
   "source": [
    "# Selected words to appear in the report\n",
    "keys = ['void', 'commun', 'spirit', 'stop', 'merri', 'nice', \n",
    "        'good', 'bad', 'sad', 'mad', 'best', 'pretti', \n",
    "        'song', 'idea', 'power', 'play']\n",
    "\n",
    "# List representing our table of word counts\n",
    "data = []\n",
    "\n",
    "# Loop through our selected words\n",
    "for word in keys:\n",
    "    # Initialize counts for each sentiment category\n",
    "    counts = [0] * 5  # [Extremely Negative, Negative, Neutral, Positive, Extremely Positive]\n",
    "    \n",
    "    # Retrieve counts for each sentiment\n",
    "    for sentiment in range(5):  # 0 to 4 representing the sentiments\n",
    "        if (word, sentiment) in freqs:\n",
    "            counts[sentiment] = freqs[(word, sentiment)]\n",
    "    \n",
    "    # Append the results to the data list\n",
    "    data.append([word] + counts)\n",
    "\n",
    "# Print the report\n",
    "print(\"Word Count Report:\")\n",
    "print(f\"{'Word':<20}{'Extremely Negative':<20}{'Negative':<10}{'Neutral':<10}{'Positive':<10}{'Extremely Positive':<20}\")\n",
    "for entry in data:\n",
    "    print(f\"{entry[0]:<20}{entry[1]:<20}{entry[2]:<10}{entry[3]:<10}{entry[4]:<10}{entry[5]:<20}\")\n"
   ]
  },
  {
   "cell_type": "code",
   "execution_count": 31,
   "id": "000beeae-bd72-4c48-9446-3f6cdd0d4d85",
   "metadata": {},
   "outputs": [
    {
     "data": {
      "image/png": "[encoded data removed]",
      "text/plain": [
       "<Figure size 800x800 with 1 Axes>"
      ]
     },
     "metadata": {},
     "output_type": "display_data"
    }
   ],
   "source": [
    "import numpy as np\n",
    "import matplotlib.pyplot as plt\n",
    "\n",
    "# Sample data structure for 'data', assuming counts are already populated\n",
    "# Each entry in data should be like: ['word', ext_neg_count, neg_count, neutral_count, pos_count, ext_pos_count]\n",
    "# For example: data = [['word1', ext_neg, neg, neutral, pos, ext_pos], ...]\n",
    "\n",
    "# Create the figure and axis\n",
    "fig, ax = plt.subplots(figsize=(8,8))\n",
    "\n",
    "# Prepare data for scatter plots\n",
    "# Use logarithmic scale for counts\n",
    "x = np.log([entry[1] + 1 for entry in data])  # Extremely Negative counts\n",
    "y1 = np.log([entry[2] + 1 for entry in data])  # Negative counts\n",
    "y2 = np.log([entry[3] + 1 for entry in data])  # Neutral counts\n",
    "y3 = np.log([entry[4] + 1 for entry in data])  # Positive counts\n",
    "y4 = np.log([entry[5] + 1 for entry in data])  # Extremely Positive counts\n",
    "\n",
    "# Plot each sentiment category with a different color\n",
    "ax.scatter(x, y1, label='Negative', color='red', alpha=0.5)\n",
    "ax.scatter(x, y2, label='Neutral', color='blue', alpha=0.5)\n",
    "ax.scatter(x, y3, label='Positive', color='green', alpha=0.5)\n",
    "ax.scatter(x, y4, label='Extremely Positive', color='purple', alpha=0.5)\n",
    "\n",
    "# Assign axis labels\n",
    "plt.xlabel(\"Log Extremely Negative Count\")\n",
    "plt.ylabel(\"Log Counts for Other Sentiments\")\n",
    "\n",
    "# Optional: Add a title and legend\n",
    "plt.title(\"Log-Log Plot of Sentiment Counts\")\n",
    "plt.legend()\n",
    "\n",
    "# Show the grid for better readability\n",
    "ax.grid(True)\n",
    "\n",
    "# Show the plot\n",
    "plt.show()\n"
   ]
  },
  {
   "cell_type": "code",
   "execution_count": 33,
   "id": "86b5696b-d729-4726-b7bb-1fe31770ddf4",
   "metadata": {},
   "outputs": [],
   "source": [
    "import numpy as np\n",
    "\n",
    "def extract_features(tweet, freqs):\n",
    "    \"\"\"\n",
    "    Extracts features from a tweet for sentiment analysis.\n",
    "    \n",
    "    Parameters:\n",
    "    tweet: a list of words for one tweet\n",
    "    freqs: a dictionary corresponding to the frequencies of each (word, label) tuple\n",
    "    \n",
    "    Returns:\n",
    "    x: a feature vector of dimension (1, 6)\n",
    "    \"\"\"\n",
    "    # Process the tweet to get a list of words\n",
    "    word_list = process_tweet(tweet)\n",
    "    \n",
    "    # Initialize a feature vector with six elements (1 for bias + 5 sentiments)\n",
    "    x = np.zeros((1, 6))\n",
    "    \n",
    "    # Set the bias term\n",
    "    x[0, 0] = 1  # Bias term\n",
    "\n",
    "    # Loop through each word in the list of words\n",
    "    for word in word_list:\n",
    "        # Increment the word count for each sentiment label\n",
    "        x[0, 1] += freqs.get((word, 0), 0)  # Extremely Negative\n",
    "        x[0, 2] += freqs.get((word, 1), 0)  # Negative\n",
    "        x[0, 3] += freqs.get((word, 2), 0)  # Neutral\n",
    "        x[0, 4] += freqs.get((word, 3), 0)  # Positive\n",
    "        x[0, 5] += freqs.get((word, 4), 0)  # Extremely Positive\n",
    "\n",
    "    # Assert to ensure the shape of x is correct\n",
    "    assert(x.shape == (1, 6))\n",
    "    \n",
    "    return x\n"
   ]
  },
  {
   "cell_type": "code",
   "execution_count": 35,
   "id": "0936baa4-c828-4709-bab2-21bb05e525ec",
   "metadata": {},
   "outputs": [],
   "source": [
    "## example\n",
    "\n"
   ]
  },
  {
   "cell_type": "code",
   "execution_count": 37,
   "id": "d092cc3b-a1a3-4ccd-b195-03532945cc91",
   "metadata": {},
   "outputs": [
    {
     "name": "stdout",
     "output_type": "stream",
     "text": [
      "[[1.000e+00 1.530e+03 2.529e+03 1.395e+03 2.224e+03 1.430e+03]]\n"
     ]
    }
   ],
   "source": [
    "# Extract features from the first training tweet\n",
    "train_x = training_tweets  # Your list of training tweets\n",
    "tmp1 = extract_features(train_x[0], freqs)\n",
    "print(tmp1)  # This should print the feature vector for the first tweet\n",
    "\n"
   ]
  },
  {
   "cell_type": "code",
   "execution_count": 39,
   "id": "e424a93e-0c48-4d58-ac57-7f2e60de57d9",
   "metadata": {},
   "outputs": [
    {
     "name": "stdout",
     "output_type": "stream",
     "text": [
      "[[ 1.  2.  3.  0. 11. 28.]]\n"
     ]
    }
   ],
   "source": [
    "\n",
    "tmp2 = extract_features('This batch is the best batch', freqs)\n",
    "print(tmp2)  # This should print the feature vector for the random string\n"
   ]
  },
  {
   "cell_type": "markdown",
   "id": "8f2aa17a-1938-4ca1-aff2-542bdbce73ac",
   "metadata": {},
   "source": [
    "### x_train ,train_y,test_x,test_y"
   ]
  },
  {
   "cell_type": "code",
   "execution_count": 42,
   "id": "5d050c8d-64e7-40d2-b8b0-169be2683324",
   "metadata": {},
   "outputs": [
    {
     "name": "stdout",
     "output_type": "stream",
     "text": [
      "x shape: (3036, 6), y shape: (3036,)\n"
     ]
    }
   ],
   "source": [
    "import numpy as np\n",
    "\n",
    "# Assuming you have already defined `training_tweets`, and your dataset contains all sentiments.\n",
    "\n",
    "# Initialize the feature matrix 'x' with the appropriate size\n",
    "# Assuming each tweet will be represented by a feature vector of length 6\n",
    "x = np.zeros((len(train_x), 6))  # 6 for the 5 sentiment categories + 1 for bias\n",
    "\n",
    "# Collect features for each tweet\n",
    "for i in range(len(train_x)):\n",
    "    x[i, :] = extract_features(train_x[i], freqs)\n",
    "\n",
    "# Prepare training labels corresponding to each sentiment\n",
    "# Create arrays for each sentiment\n",
    "labels_dict = {\n",
    "    'Extremely Negative': 0,\n",
    "    'Negative': 1,\n",
    "    'Neutral': 2,\n",
    "    'Positive': 3,\n",
    "    'Extremely Positive': 4\n",
    "}\n",
    "\n",
    "# Initialize an empty list for labels\n",
    "train_y = []\n",
    "\n",
    "# Populate train_y based on the sentiment of each tweet in training_tweets\n",
    "for tweet in training_tweets:\n",
    "    # Find the corresponding row in df (if it exists)\n",
    "    sentiment_row = df[df['OriginalTweet'] == tweet]\n",
    "    if not sentiment_row.empty:\n",
    "        sentiment = sentiment_row.iloc[0]['Sentiment']\n",
    "        train_y.append(labels_dict[sentiment])\n",
    "\n",
    "# Convert train_y to a numpy array\n",
    "train_y = np.array(train_y)\n",
    "\n",
    "# Print shapes to verify\n",
    "print(f'x shape: {x.shape}, y shape: {train_y.shape}')\n"
   ]
  },
  {
   "cell_type": "code",
   "execution_count": 44,
   "id": "d255f596-1bbb-44b8-8f41-55b798e45362",
   "metadata": {},
   "outputs": [
    {
     "name": "stdout",
     "output_type": "stream",
     "text": [
      "test_x shape: (762, 6), test_y shape: (762,)\n"
     ]
    }
   ],
   "source": [
    "# Combine test tweets\n",
    "all_test_tweets = (ext_neg_test + neg_test + neutral_test + pos_test + ext_pos_test)\n",
    "\n",
    "# Initialize test feature matrix for 5 classes (plus bias)\n",
    "test_x = np.zeros((len(all_test_tweets), 6))  # Each tweet will be represented by a feature vector of length 6\n",
    "\n",
    "# Collect features for each tweet\n",
    "for i in range(len(all_test_tweets)):\n",
    "    test_x[i, :] = extract_features(all_test_tweets[i], freqs)\n",
    "\n",
    "# Prepare testing labels corresponding to each sentiment\n",
    "labels_dict = {\n",
    "    'Extremely Negative': 0,\n",
    "    'Negative': 1,\n",
    "    'Neutral': 2,\n",
    "    'Positive': 3,\n",
    "    'Extremely Positive': 4\n",
    "}\n",
    "\n",
    "# Initialize an empty list for test labels\n",
    "test_y = []\n",
    "\n",
    "# Populate test_y based on the sentiment of each tweet\n",
    "# You can combine all sentiment test sets to get the right labels\n",
    "test_y.extend([labels_dict['Extremely Negative']] * len(ext_neg_test))\n",
    "test_y.extend([labels_dict['Negative']] * len(neg_test))\n",
    "test_y.extend([labels_dict['Neutral']] * len(neutral_test))\n",
    "test_y.extend([labels_dict['Positive']] * len(pos_test))\n",
    "test_y.extend([labels_dict['Extremely Positive']] * len(ext_pos_test))\n",
    "\n",
    "# Convert test_y to a numpy array\n",
    "test_y = np.array(test_y)\n",
    "\n",
    "# Print shapes to verify\n",
    "print(f'test_x shape: {test_x.shape}, test_y shape: {test_y.shape}')\n"
   ]
  },
  {
   "cell_type": "markdown",
   "id": "a702af33-17fb-4a57-bb67-b6ba63e92d51",
   "metadata": {},
   "source": [
    "## using a simple model"
   ]
  },
  {
   "cell_type": "code",
   "execution_count": 126,
   "id": "2cb115c2-de0e-487e-9b08-c4cd341563ea",
   "metadata": {},
   "outputs": [
    {
     "name": "stdout",
     "output_type": "stream",
     "text": [
      "Training Accuracy: 0.4858\n"
     ]
    },
    {
     "name": "stderr",
     "output_type": "stream",
     "text": [
      "/opt/anaconda3/lib/python3.12/site-packages/sklearn/linear_model/_logistic.py:1247: FutureWarning: 'multi_class' was deprecated in version 1.5 and will be removed in 1.7. From then on, it will always use 'multinomial'. Leave it to its default value to avoid this warning.\n",
      "  warnings.warn(\n"
     ]
    }
   ],
   "source": [
    "from sklearn.linear_model import LogisticRegression\n",
    "from sklearn.metrics import accuracy_score\n",
    "from sklearn.preprocessing import StandardScaler\n",
    "\n",
    "# Scale your features (x)\n",
    "scaler = StandardScaler()\n",
    "x_scaled = scaler.fit_transform(x)\n",
    "\n",
    "# Create and fit the logistic regression model\n",
    "clf = LogisticRegression(multi_class='multinomial', solver='saga', max_iter=2000)\n",
    "clf.fit(x_scaled, train_y)\n",
    "\n",
    "# Predict on the training data\n",
    "train_predictions = clf.predict(x_scaled)\n",
    "\n",
    "# Calculate and print the training accuracy\n",
    "accuracy = accuracy_score(train_y, train_predictions)\n",
    "print(f\"Training Accuracy: {accuracy:.4f}\")\n"
   ]
  },
  {
   "cell_type": "code",
   "execution_count": 64,
   "id": "661b9efb-4e29-4068-9713-bc3ce1e84b28",
   "metadata": {},
   "outputs": [
    {
     "name": "stdout",
     "output_type": "stream",
     "text": [
      "Test Accuracy: 0.3504\n"
     ]
    }
   ],
   "source": [
    "# Scale your test features\n",
    "test_x_scaled = scaler.transform(test_x)\n",
    "\n",
    "# Predict on the test data\n",
    "test_predictions = clf.predict(test_x_scaled)\n",
    "\n",
    "# Calculate and print the test accuracy\n",
    "test_accuracy = accuracy_score(test_y, test_predictions)\n",
    "print(f\"Test Accuracy: {test_accuracy:.4f}\")\n"
   ]
  },
  {
   "cell_type": "markdown",
   "id": "87cbf666-bdfe-436e-a830-4f52f09b36e9",
   "metadata": {},
   "source": [
    "## using a ann model"
   ]
  },
  {
   "cell_type": "code",
   "execution_count": 54,
   "id": "425d96e2-b8d9-4bfb-b332-e1b63bb27243",
   "metadata": {},
   "outputs": [],
   "source": [
    "import tensorflow as tf\n",
    "from tensorflow import keras\n",
    "from sklearn.model_selection import train_test_split\n",
    "from sklearn.preprocessing import StandardScaler\n",
    "\n",
    "# Scale the data\n",
    "scaler = StandardScaler()\n",
    "x_train_scaled = scaler.fit_transform(x)\n",
    "x_test_scaled = scaler.transform(test_x)\n",
    "\n"
   ]
  },
  {
   "cell_type": "code",
   "execution_count": 56,
   "id": "c8988930-38db-4f52-8149-75673ae2707a",
   "metadata": {},
   "outputs": [
    {
     "name": "stderr",
     "output_type": "stream",
     "text": [
      "/opt/anaconda3/lib/python3.12/site-packages/keras/src/layers/core/dense.py:87: UserWarning: Do not pass an `input_shape`/`input_dim` argument to a layer. When using Sequential models, prefer using an `Input(shape)` object as the first layer in the model instead.\n",
      "  super().__init__(activity_regularizer=activity_regularizer, **kwargs)\n"
     ]
    },
    {
     "data": {
      "text/html": [
       "<pre style=\"white-space:pre;overflow-x:auto;line-height:normal;font-family:Menlo,'DejaVu Sans Mono',consolas,'Courier New',monospace\"><span style=\"font-weight: bold\">Model: \"sequential_1\"</span>\n",
       "</pre>\n"
      ],
      "text/plain": [
       "\u001b[1mModel: \"sequential_1\"\u001b[0m\n"
      ]
     },
     "metadata": {},
     "output_type": "display_data"
    },
    {
     "data": {
      "text/html": [
       "<pre style=\"white-space:pre;overflow-x:auto;line-height:normal;font-family:Menlo,'DejaVu Sans Mono',consolas,'Courier New',monospace\">┏━━━━━━━━━━━━━━━━━━━━━━━━━━━━━━━━━┳━━━━━━━━━━━━━━━━━━━━━━━━┳━━━━━━━━━━━━━━━┓\n",
       "┃<span style=\"font-weight: bold\"> Layer (type)                    </span>┃<span style=\"font-weight: bold\"> Output Shape           </span>┃<span style=\"font-weight: bold\">       Param # </span>┃\n",
       "┡━━━━━━━━━━━━━━━━━━━━━━━━━━━━━━━━━╇━━━━━━━━━━━━━━━━━━━━━━━━╇━━━━━━━━━━━━━━━┩\n",
       "│ dense_3 (<span style=\"color: #0087ff; text-decoration-color: #0087ff\">Dense</span>)                 │ (<span style=\"color: #00d7ff; text-decoration-color: #00d7ff\">None</span>, <span style=\"color: #00af00; text-decoration-color: #00af00\">128</span>)            │           <span style=\"color: #00af00; text-decoration-color: #00af00\">896</span> │\n",
       "├─────────────────────────────────┼────────────────────────┼───────────────┤\n",
       "│ dense_4 (<span style=\"color: #0087ff; text-decoration-color: #0087ff\">Dense</span>)                 │ (<span style=\"color: #00d7ff; text-decoration-color: #00d7ff\">None</span>, <span style=\"color: #00af00; text-decoration-color: #00af00\">64</span>)             │         <span style=\"color: #00af00; text-decoration-color: #00af00\">8,256</span> │\n",
       "├─────────────────────────────────┼────────────────────────┼───────────────┤\n",
       "│ dense_5 (<span style=\"color: #0087ff; text-decoration-color: #0087ff\">Dense</span>)                 │ (<span style=\"color: #00d7ff; text-decoration-color: #00d7ff\">None</span>, <span style=\"color: #00af00; text-decoration-color: #00af00\">5</span>)              │           <span style=\"color: #00af00; text-decoration-color: #00af00\">325</span> │\n",
       "└─────────────────────────────────┴────────────────────────┴───────────────┘\n",
       "</pre>\n"
      ],
      "text/plain": [
       "┏━━━━━━━━━━━━━━━━━━━━━━━━━━━━━━━━━┳━━━━━━━━━━━━━━━━━━━━━━━━┳━━━━━━━━━━━━━━━┓\n",
       "┃\u001b[1m \u001b[0m\u001b[1mLayer (type)                   \u001b[0m\u001b[1m \u001b[0m┃\u001b[1m \u001b[0m\u001b[1mOutput Shape          \u001b[0m\u001b[1m \u001b[0m┃\u001b[1m \u001b[0m\u001b[1m      Param #\u001b[0m\u001b[1m \u001b[0m┃\n",
       "┡━━━━━━━━━━━━━━━━━━━━━━━━━━━━━━━━━╇━━━━━━━━━━━━━━━━━━━━━━━━╇━━━━━━━━━━━━━━━┩\n",
       "│ dense_3 (\u001b[38;5;33mDense\u001b[0m)                 │ (\u001b[38;5;45mNone\u001b[0m, \u001b[38;5;34m128\u001b[0m)            │           \u001b[38;5;34m896\u001b[0m │\n",
       "├─────────────────────────────────┼────────────────────────┼───────────────┤\n",
       "│ dense_4 (\u001b[38;5;33mDense\u001b[0m)                 │ (\u001b[38;5;45mNone\u001b[0m, \u001b[38;5;34m64\u001b[0m)             │         \u001b[38;5;34m8,256\u001b[0m │\n",
       "├─────────────────────────────────┼────────────────────────┼───────────────┤\n",
       "│ dense_5 (\u001b[38;5;33mDense\u001b[0m)                 │ (\u001b[38;5;45mNone\u001b[0m, \u001b[38;5;34m5\u001b[0m)              │           \u001b[38;5;34m325\u001b[0m │\n",
       "└─────────────────────────────────┴────────────────────────┴───────────────┘\n"
      ]
     },
     "metadata": {},
     "output_type": "display_data"
    },
    {
     "data": {
      "text/html": [
       "<pre style=\"white-space:pre;overflow-x:auto;line-height:normal;font-family:Menlo,'DejaVu Sans Mono',consolas,'Courier New',monospace\"><span style=\"font-weight: bold\"> Total params: </span><span style=\"color: #00af00; text-decoration-color: #00af00\">9,477</span> (37.02 KB)\n",
       "</pre>\n"
      ],
      "text/plain": [
       "\u001b[1m Total params: \u001b[0m\u001b[38;5;34m9,477\u001b[0m (37.02 KB)\n"
      ]
     },
     "metadata": {},
     "output_type": "display_data"
    },
    {
     "data": {
      "text/html": [
       "<pre style=\"white-space:pre;overflow-x:auto;line-height:normal;font-family:Menlo,'DejaVu Sans Mono',consolas,'Courier New',monospace\"><span style=\"font-weight: bold\"> Trainable params: </span><span style=\"color: #00af00; text-decoration-color: #00af00\">9,477</span> (37.02 KB)\n",
       "</pre>\n"
      ],
      "text/plain": [
       "\u001b[1m Trainable params: \u001b[0m\u001b[38;5;34m9,477\u001b[0m (37.02 KB)\n"
      ]
     },
     "metadata": {},
     "output_type": "display_data"
    },
    {
     "data": {
      "text/html": [
       "<pre style=\"white-space:pre;overflow-x:auto;line-height:normal;font-family:Menlo,'DejaVu Sans Mono',consolas,'Courier New',monospace\"><span style=\"font-weight: bold\"> Non-trainable params: </span><span style=\"color: #00af00; text-decoration-color: #00af00\">0</span> (0.00 B)\n",
       "</pre>\n"
      ],
      "text/plain": [
       "\u001b[1m Non-trainable params: \u001b[0m\u001b[38;5;34m0\u001b[0m (0.00 B)\n"
      ]
     },
     "metadata": {},
     "output_type": "display_data"
    }
   ],
   "source": [
    "# Build the model\n",
    "model = keras.Sequential([\n",
    "    keras.layers.Dense(128, activation='relu', input_shape=(x_train_scaled.shape[1],)),\n",
    "    keras.layers.Dense(64, activation='relu'),\n",
    "    keras.layers.Dense(5, activation='softmax')  # 5 classes for output\n",
    "])\n",
    "\n",
    "model.summary()"
   ]
  },
  {
   "cell_type": "code",
   "execution_count": 60,
   "id": "060cd6aa-b3a2-4e33-9837-3cb42c3ce7d9",
   "metadata": {},
   "outputs": [
    {
     "name": "stdout",
     "output_type": "stream",
     "text": [
      "Epoch 1/20\n",
      "\u001b[1m76/76\u001b[0m \u001b[32m━━━━━━━━━━━━━━━━━━━━\u001b[0m\u001b[37m\u001b[0m \u001b[1m1s\u001b[0m 2ms/step - accuracy: 0.3379 - loss: 1.4703 - val_accuracy: 0.0181 - val_loss: 3.9114\n",
      "Epoch 2/20\n",
      "\u001b[1m76/76\u001b[0m \u001b[32m━━━━━━━━━━━━━━━━━━━━\u001b[0m\u001b[37m\u001b[0m \u001b[1m0s\u001b[0m 628us/step - accuracy: 0.3841 - loss: 1.3024 - val_accuracy: 0.0707 - val_loss: 5.2674\n",
      "Epoch 3/20\n",
      "\u001b[1m76/76\u001b[0m \u001b[32m━━━━━━━━━━━━━━━━━━━━\u001b[0m\u001b[37m\u001b[0m \u001b[1m0s\u001b[0m 645us/step - accuracy: 0.4397 - loss: 1.2277 - val_accuracy: 0.0806 - val_loss: 5.9399\n",
      "Epoch 4/20\n",
      "\u001b[1m76/76\u001b[0m \u001b[32m━━━━━━━━━━━━━━━━━━━━\u001b[0m\u001b[37m\u001b[0m \u001b[1m0s\u001b[0m 636us/step - accuracy: 0.4616 - loss: 1.2119 - val_accuracy: 0.1053 - val_loss: 6.3727\n",
      "Epoch 5/20\n",
      "\u001b[1m76/76\u001b[0m \u001b[32m━━━━━━━━━━━━━━━━━━━━\u001b[0m\u001b[37m\u001b[0m \u001b[1m0s\u001b[0m 645us/step - accuracy: 0.4737 - loss: 1.1995 - val_accuracy: 0.1365 - val_loss: 6.7184\n",
      "Epoch 6/20\n",
      "\u001b[1m76/76\u001b[0m \u001b[32m━━━━━━━━━━━━━━━━━━━━\u001b[0m\u001b[37m\u001b[0m \u001b[1m0s\u001b[0m 629us/step - accuracy: 0.4612 - loss: 1.2048 - val_accuracy: 0.0822 - val_loss: 6.9136\n",
      "Epoch 7/20\n",
      "\u001b[1m76/76\u001b[0m \u001b[32m━━━━━━━━━━━━━━━━━━━━\u001b[0m\u001b[37m\u001b[0m \u001b[1m0s\u001b[0m 627us/step - accuracy: 0.4599 - loss: 1.1971 - val_accuracy: 0.0855 - val_loss: 7.0623\n",
      "Epoch 8/20\n",
      "\u001b[1m76/76\u001b[0m \u001b[32m━━━━━━━━━━━━━━━━━━━━\u001b[0m\u001b[37m\u001b[0m \u001b[1m0s\u001b[0m 634us/step - accuracy: 0.4620 - loss: 1.1889 - val_accuracy: 0.0938 - val_loss: 7.1892\n",
      "Epoch 9/20\n",
      "\u001b[1m76/76\u001b[0m \u001b[32m━━━━━━━━━━━━━━━━━━━━\u001b[0m\u001b[37m\u001b[0m \u001b[1m0s\u001b[0m 625us/step - accuracy: 0.4566 - loss: 1.1986 - val_accuracy: 0.0839 - val_loss: 7.3024\n",
      "Epoch 10/20\n",
      "\u001b[1m76/76\u001b[0m \u001b[32m━━━━━━━━━━━━━━━━━━━━\u001b[0m\u001b[37m\u001b[0m \u001b[1m0s\u001b[0m 647us/step - accuracy: 0.4492 - loss: 1.1722 - val_accuracy: 0.1003 - val_loss: 7.4242\n",
      "Epoch 11/20\n",
      "\u001b[1m76/76\u001b[0m \u001b[32m━━━━━━━━━━━━━━━━━━━━\u001b[0m\u001b[37m\u001b[0m \u001b[1m0s\u001b[0m 644us/step - accuracy: 0.5067 - loss: 1.1230 - val_accuracy: 0.0773 - val_loss: 7.4629\n",
      "Epoch 12/20\n",
      "\u001b[1m76/76\u001b[0m \u001b[32m━━━━━━━━━━━━━━━━━━━━\u001b[0m\u001b[37m\u001b[0m \u001b[1m0s\u001b[0m 673us/step - accuracy: 0.4458 - loss: 1.1900 - val_accuracy: 0.1283 - val_loss: 7.5402\n",
      "Epoch 13/20\n",
      "\u001b[1m76/76\u001b[0m \u001b[32m━━━━━━━━━━━━━━━━━━━━\u001b[0m\u001b[37m\u001b[0m \u001b[1m0s\u001b[0m 660us/step - accuracy: 0.4701 - loss: 1.1762 - val_accuracy: 0.1003 - val_loss: 7.5520\n",
      "Epoch 14/20\n",
      "\u001b[1m76/76\u001b[0m \u001b[32m━━━━━━━━━━━━━━━━━━━━\u001b[0m\u001b[37m\u001b[0m \u001b[1m0s\u001b[0m 655us/step - accuracy: 0.4913 - loss: 1.1507 - val_accuracy: 0.1217 - val_loss: 7.7198\n",
      "Epoch 15/20\n",
      "\u001b[1m76/76\u001b[0m \u001b[32m━━━━━━━━━━━━━━━━━━━━\u001b[0m\u001b[37m\u001b[0m \u001b[1m0s\u001b[0m 1ms/step - accuracy: 0.5013 - loss: 1.1399 - val_accuracy: 0.1020 - val_loss: 7.8341\n",
      "Epoch 16/20\n",
      "\u001b[1m76/76\u001b[0m \u001b[32m━━━━━━━━━━━━━━━━━━━━\u001b[0m\u001b[37m\u001b[0m \u001b[1m0s\u001b[0m 646us/step - accuracy: 0.4817 - loss: 1.1649 - val_accuracy: 0.1234 - val_loss: 7.8306\n",
      "Epoch 17/20\n",
      "\u001b[1m76/76\u001b[0m \u001b[32m━━━━━━━━━━━━━━━━━━━━\u001b[0m\u001b[37m\u001b[0m \u001b[1m0s\u001b[0m 652us/step - accuracy: 0.5013 - loss: 1.1416 - val_accuracy: 0.1102 - val_loss: 7.8825\n",
      "Epoch 18/20\n",
      "\u001b[1m76/76\u001b[0m \u001b[32m━━━━━━━━━━━━━━━━━━━━\u001b[0m\u001b[37m\u001b[0m \u001b[1m0s\u001b[0m 649us/step - accuracy: 0.4844 - loss: 1.1344 - val_accuracy: 0.1118 - val_loss: 8.0400\n",
      "Epoch 19/20\n",
      "\u001b[1m76/76\u001b[0m \u001b[32m━━━━━━━━━━━━━━━━━━━━\u001b[0m\u001b[37m\u001b[0m \u001b[1m0s\u001b[0m 650us/step - accuracy: 0.4934 - loss: 1.1313 - val_accuracy: 0.0789 - val_loss: 7.9527\n",
      "Epoch 20/20\n",
      "\u001b[1m76/76\u001b[0m \u001b[32m━━━━━━━━━━━━━━━━━━━━\u001b[0m\u001b[37m\u001b[0m \u001b[1m0s\u001b[0m 666us/step - accuracy: 0.4925 - loss: 1.1376 - val_accuracy: 0.1151 - val_loss: 7.9192\n",
      "\u001b[1m24/24\u001b[0m \u001b[32m━━━━━━━━━━━━━━━━━━━━\u001b[0m\u001b[37m\u001b[0m \u001b[1m0s\u001b[0m 410us/step - accuracy: 0.3529 - loss: 1.5471\n",
      "Test Accuracy: 0.3031\n"
     ]
    }
   ],
   "source": [
    "# Compile the model\n",
    "model.compile(optimizer='adam',\n",
    "              loss='sparse_categorical_crossentropy',  # Use 'categorical_crossentropy' if one-hot encoding\n",
    "              metrics=['accuracy'])\n",
    "\n",
    "# Train the model\n",
    "model.fit(x_train_scaled,train_y, epochs=20, batch_size=32, validation_split=0.2)\n",
    "\n",
    "# Evaluate the model\n",
    "test_loss, test_accuracy = model.evaluate(x_test_scaled, test_y)\n",
    "print(f\"Test Accuracy: {test_accuracy:.4f}\")\n"
   ]
  },
  {
   "cell_type": "code",
   "execution_count": 68,
   "id": "93baa891-0217-4aea-a2a5-be9d07749fee",
   "metadata": {},
   "outputs": [
    {
     "name": "stdout",
     "output_type": "stream",
     "text": [
      "Confusion Matrix:\n",
      " [[36 51 13 19  0]\n",
      " [35 93 35 46  0]\n",
      " [ 7 56 42 19  0]\n",
      " [22 83 25 60  0]\n",
      " [ 8 27 10 75  0]]\n",
      "              precision    recall  f1-score   support\n",
      "\n",
      "           0       0.33      0.30      0.32       119\n",
      "           1       0.30      0.44      0.36       209\n",
      "           2       0.34      0.34      0.34       124\n",
      "           3       0.27      0.32      0.29       190\n",
      "           4       1.00      0.00      0.00       120\n",
      "\n",
      "    accuracy                           0.30       762\n",
      "   macro avg       0.45      0.28      0.26       762\n",
      "weighted avg       0.41      0.30      0.28       762\n",
      "\n"
     ]
    }
   ],
   "source": [
    "from sklearn.metrics import confusion_matrix, classification_report\n",
    "\n",
    "# Confusion matrix\n",
    "conf_matrix = confusion_matrix(test_y, test_predictions_classes)\n",
    "print(\"Confusion Matrix:\\n\", conf_matrix)\n",
    "\n",
    "# Classification report with zero_division parameter\n",
    "print(classification_report(test_y, test_predictions_classes, zero_division=1))\n"
   ]
  },
  {
   "cell_type": "markdown",
   "id": "cf61cbb6-98b5-459e-bb5e-d310835ea984",
   "metadata": {},
   "source": [
    "### predict a custom tweet on logistic model"
   ]
  },
  {
   "cell_type": "code",
   "execution_count": 90,
   "id": "b27716f1-92cf-46e2-8831-f7ec43bb456f",
   "metadata": {},
   "outputs": [
    {
     "name": "stdout",
     "output_type": "stream",
     "text": [
      "Thank God coronavirus is over -> Negative\n",
      "This is seriously ridiculous. Stop hoarding -> Negative\n",
      "Government efforts are great. -> Extremely Positive\n",
      "Nonsense -> Extremely Negative\n",
      "Panic-buying is pushing up prices. #coronavirus -> Negative\n",
      "THANK YOU to make hand sanitizer in distillery amid outbreak -> Extremely Positive\n"
     ]
    }
   ],
   "source": [
    "def predict_custom_tweet(tweet, freqs):\n",
    "    # Extract features from the tweet\n",
    "    x = extract_features(tweet, freqs)\n",
    "    \n",
    "    # Make the prediction\n",
    "    y_pred = clf.predict(x)\n",
    "    \n",
    "    # Map numerical predictions to sentiment labels\n",
    "    labels_dict = {\n",
    "        0: 'Extremely Negative',\n",
    "        1: 'Negative',\n",
    "        2: 'Neutral',\n",
    "        3: 'Positive',\n",
    "        4: 'Extremely Positive'\n",
    "    }\n",
    "    \n",
    "    # Return the sentiment label\n",
    "    return labels_dict[y_pred[0]]  # Use y_pred[0] for the predicted label\n",
    "\n",
    "# Test your function\n",
    "list_of_tweets = [\n",
    "    'Thank God coronavirus is over',\n",
    "    'This is seriously ridiculous. Stop hoarding',\n",
    "    'Government efforts are great.',\n",
    "    'Nonsense',  # Anomaly in classification\n",
    "    'Panic-buying is pushing up prices. #coronavirus',\n",
    "    'THANK YOU to make hand sanitizer in distillery amid outbreak'\n",
    "]\n",
    "\n",
    "for tweet in list_of_tweets:\n",
    "    print(f\"{tweet} -> {predict_custom_tweet(tweet, freqs)}\")\n"
   ]
  },
  {
   "cell_type": "markdown",
   "id": "4b6f39b8-6ca4-4e10-9fc8-8eab434222d9",
   "metadata": {},
   "source": [
    "### for custom sentence in logistic model"
   ]
  },
  {
   "cell_type": "code",
   "execution_count": 93,
   "id": "f7c43052-8b0c-4f38-9e69-74cb15d25641",
   "metadata": {},
   "outputs": [
    {
     "name": "stdin",
     "output_type": "stream",
     "text": [
      "Enter a tweet (or type 'exit' to finish):  india is a great country\n",
      "Enter a tweet (or type 'exit' to finish):  exit\n"
     ]
    },
    {
     "name": "stdout",
     "output_type": "stream",
     "text": [
      "india is a great country -> Negative\n"
     ]
    }
   ],
   "source": [
    "def predict_custom_tweet(tweet, freqs):\n",
    "    # Extract features from the tweet\n",
    "    x = extract_features(tweet, freqs)\n",
    "    \n",
    "    # Make the prediction\n",
    "    y_pred = clf.predict(x)\n",
    "    \n",
    "    # Map numerical predictions to sentiment labels\n",
    "    labels_dict = {\n",
    "        0: 'Extremely Negative',\n",
    "        1: 'Negative',\n",
    "        2: 'Neutral',\n",
    "        3: 'Positive',\n",
    "        4: 'Extremely Positive'\n",
    "    }\n",
    "    \n",
    "    # Return the sentiment label\n",
    "    return labels_dict[y_pred[0]]  # Use y_pred[0] for the predicted label\n",
    "\n",
    "# Get user input for tweets\n",
    "list_of_tweets = []\n",
    "while True:\n",
    "    tweet = input(\"Enter a tweet (or type 'exit' to finish): \")\n",
    "    if tweet.lower() == 'exit':\n",
    "        break\n",
    "    list_of_tweets.append(tweet)\n",
    "\n",
    "# Predict sentiment for the input tweets\n",
    "for tweet in list_of_tweets:\n",
    "    print(f\"{tweet} -> {predict_custom_tweet(tweet, freqs)}\")\n"
   ]
  },
  {
   "cell_type": "markdown",
   "id": "9869716d-fd2f-4180-9b47-fe0d2552b066",
   "metadata": {},
   "source": [
    "### predict a custom tweet on ANN model"
   ]
  },
  {
   "cell_type": "code",
   "execution_count": 99,
   "id": "0ec33d6a-a286-4fd2-bb58-3f18343da38f",
   "metadata": {},
   "outputs": [
    {
     "name": "stdin",
     "output_type": "stream",
     "text": [
      "Enter a tweet (or type 'exit' to finish):  india is a good country\n",
      "Enter a tweet (or type 'exit' to finish):  exit\n"
     ]
    },
    {
     "name": "stdout",
     "output_type": "stream",
     "text": [
      "\u001b[1m1/1\u001b[0m \u001b[32m━━━━━━━━━━━━━━━━━━━━\u001b[0m\u001b[37m\u001b[0m \u001b[1m0s\u001b[0m 16ms/step\n",
      "india is a good country -> Positive\n"
     ]
    }
   ],
   "source": [
    "def predict_custom_tweet(tweet, freqs):\n",
    "    # Extract features from the tweet\n",
    "    x = extract_features(tweet, freqs)\n",
    "    \n",
    "    # Reshape x to be compatible with the model input (1 sample)\n",
    "    x = x.reshape(1, -1)  # Reshape to (1, feature_length)\n",
    "    \n",
    "    # Make the prediction\n",
    "    y_pred = model.predict(x)\n",
    "    \n",
    "    # Get the class with the highest probability\n",
    "    y_pred_class = np.argmax(y_pred, axis=1)[0]\n",
    "    \n",
    "    # Map numerical predictions to sentiment labels\n",
    "    labels_dict = {\n",
    "        0: 'Extremely Negative',\n",
    "        1: 'Negative',\n",
    "        2: 'Neutral',\n",
    "        3: 'Positive',\n",
    "        4: 'Extremely Positive'\n",
    "    }\n",
    "    \n",
    "    # Return the sentiment label\n",
    "    return labels_dict[y_pred_class]\n",
    "\n",
    "# Test your function with user input\n",
    "list_of_tweets = []\n",
    "while True:\n",
    "    tweet = input(\"Enter a tweet (or type 'exit' to finish): \")\n",
    "    if tweet.lower() == 'exit':\n",
    "        break\n",
    "    list_of_tweets.append(tweet)\n",
    "\n",
    "# Predict sentiment for the input tweets\n",
    "for tweet in list_of_tweets:\n",
    "    print(f\"{tweet} -> {predict_custom_tweet(tweet, freqs)}\")\n"
   ]
  },
  {
   "cell_type": "code",
   "execution_count": null,
   "id": "af117ad4-1e2c-4173-836a-51d69e9926be",
   "metadata": {},
   "outputs": [],
   "source": []
  }
 ],
 "metadata": {
  "kernelspec": {
   "display_name": "Python 3 (ipykernel)",
   "language": "python",
   "name": "python3"
  },
  "language_info": {
   "codemirror_mode": {
    "name": "ipython",
    "version": 3
   },
   "file_extension": ".py",
   "mimetype": "text/x-python",
   "name": "python",
   "nbconvert_exporter": "python",
   "pygments_lexer": "ipython3",
   "version": "3.12.2"
  }
 },
 "nbformat": 4,
 "nbformat_minor": 5
}
